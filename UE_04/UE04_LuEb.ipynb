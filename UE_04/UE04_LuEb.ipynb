{
  "nbformat": 4,
  "nbformat_minor": 0,
  "metadata": {
    "colab": {
      "provenance": []
    },
    "kernelspec": {
      "name": "python3",
      "display_name": "Python 3"
    },
    "language_info": {
      "name": "python"
    }
  },
  "cells": [
    {
      "cell_type": "markdown",
      "source": [
        "Course Instructor: Bernd Neumayr, JKU\n",
        "\n",
        "# UE04- SPARQL Updata and RDF Datasets\n",
        "\n",
        "Complete the **8 tasks (1 point per task)** in the `3. SPARQL Update` sheet of `SemAI.jar` first and then transfer them to this notebook.\n",
        "\n",
        "For each task include:\n",
        "- A headline including the task number\n",
        "- The task description \n",
        "- Your solution in executable form: your solutions for SemAI.jar will make use of the default grap. In this notebook you have to transform your solutions according to the workaround exemplified in V04_SPARQL_Update.ipynb\n",
        "- After executing the update request, print a serizalization of the dataset in TriG format.  \n",
        "\n",
        "**Task 9 (2 points)**  is to develop a nice visualization of RDF datasets using `visualize_graph_pyvis` from UE02 as a starting point. The requirements are as follows:\n",
        "- Each named graph must be represented as an independent graph. This means, for example, that :Jane in :JanesGraph is a different node than :Jane in :BillsGraph. There are no edges between nodes in different graphs.\n",
        "- It is not strictly necessary to draw a box around each named graph, as seen in the slides. The different named graphs should simply be visually distinguishable and not overlap.\n",
        "- If not all nodes within a named graph are connected, make sure in the visualization that the named graph still forms a coherent visual unit in some way."
      ],
      "metadata": {
        "id": "HnpijZy2D1Hd"
      }
    },
    {
      "cell_type": "code",
      "source": [
        "# Install required packages\n",
        "!pip install -q rdflib     # comment to avoid re-install with every re-run\n",
        "\n",
        "# Imports\n",
        "import pandas as pd\n",
        "import rdflib\n",
        "from rdflib import Graph, Literal, RDF, URIRef, BNode, Namespace\n",
        "\n",
        "\n",
        "# Convenient Functions\n",
        "def sparql_select(graph,query,use_prefixes=True):\n",
        "  results = graph.query(query)          # execute the query against the graph, resulting in a rdflib.plugins.sparql.processor.SPARQLResult\n",
        "  rows = []                             # a list of dictionaries, as intermediate format to construct the pandas DataFrame\n",
        "  for result in results:                # iterate over the result set of the query, a result is an instance of rdflib.query.ResultRow\n",
        "    row = {}                            #     create a dictionary to hold a single row of the result\n",
        "    for var in results.vars:            #     iterate over the variables of the SPARQLResult to add a dictionary entry for each variable\n",
        "      if (isinstance(result[var],URIRef) and use_prefixes):\n",
        "        row[var] = result[var].n3(graph.namespace_manager)   # use namespace prefixes to shorten URIs\n",
        "      else:\n",
        "        row[var] = result[var]                  \n",
        "    rows.append(row)                    #     add the dictionary (row) to the list \n",
        "  return pd.DataFrame(rows,columns=results.vars)        \n",
        "                                        # return a pandas DataFrame constructed from the list of dictionaries, with the variables from the result set as columns      \n"
      ],
      "metadata": {
        "id": "71LQcpfnHOWN"
      },
      "execution_count": null,
      "outputs": []
    },
    {
      "cell_type": "markdown",
      "source": [
        "### Task 1\n",
        "Sie beginnen mit einem leeren Dataset. Fügen Sie in den Default Graph Statements ein, die sagen, dass :Peter der Autor von :G1 ist, und :Mary Autor von :G2."
      ],
      "metadata": {
        "id": "7bAbYeNrHAHP"
      }
    },
    {
      "cell_type": "code",
      "source": [
        "ds = rdflib.Dataset()\n",
        "\n",
        "solution1Jar = \"\"\"\n",
        "INSERT DATA\n",
        "{\n",
        " :G1 :author :Mary .\n",
        " :G2 :author :Peter .\n",
        "}\n",
        "\"\"\"\n",
        "\n",
        "ds.parse(format=\"trig\", data=\"\"\"\n",
        "prefix rdf: <http://www.w3.org/1999/02/22-rdf-syntax-ns#>\n",
        "prefix :    <http://example.org/>\n",
        "\n",
        ":main {\n",
        " :G1 :author :Mary .\n",
        " :G2 :author :Peter .\n",
        "}\n",
        "\"\"\")\n",
        "print(ds.serialize(format=\"trig\"))"
      ],
      "metadata": {
        "id": "KWx1zuvZLRgU"
      },
      "execution_count": null,
      "outputs": []
    },
    {
      "cell_type": "markdown",
      "source": [
        "### Task 2\n",
        "Schreiben Sie { :Mary :knows :Peter, :John, :Mary. } in den Named Graph :G1 und { :Peter :knows :Mary. :John :knows :Mary. } in den Named Graph :G2.\n",
        "\n"
      ],
      "metadata": {
        "id": "EEFTpKmnP6YY"
      }
    },
    {
      "cell_type": "code",
      "source": [
        "solution2Jar=\"\"\"\n",
        "INSERT DATA {\n",
        "GRAPH :G1 {\n",
        "    :Mary :knows :Mary , :John , :Peter .\n",
        "  }\n",
        "GRAPH :G2 {\n",
        "    :Peter :knows :Mary. :John :knows :Mary.\n",
        "  }\n",
        "}\n",
        "\"\"\"\n",
        "\n",
        "ds.parse(format=\"trig\", data=\"\"\"\n",
        "prefix rdf: <http://www.w3.org/1999/02/22-rdf-syntax-ns#>\n",
        "prefix :    <http://example.org/>\n",
        "\n",
        "GRAPH :G1 {\n",
        "    :Mary :knows :Mary , :John , :Peter .\n",
        "  }\n",
        "GRAPH :G2 {\n",
        "    :Peter :knows :Mary. :John :knows :Mary.\n",
        "  }\n",
        "\n",
        "\"\"\")\n",
        "print(ds.serialize(format=\"trig\"))"
      ],
      "metadata": {
        "id": "1OVLo3jhP6sW"
      },
      "execution_count": null,
      "outputs": []
    },
    {
      "cell_type": "markdown",
      "source": [
        "###Task 3\n",
        "Fragen Sie mittels INSERT-WHERE die :knows-Beziehungen aus :G2 ab und fügen deren inverse :knownBy-Beziehungen in den Default-Graph ein. \n",
        "Ihr Update Request darf nicht enthalten: [Mary, Peter, John]"
      ],
      "metadata": {
        "id": "pPm2U1FpQQYM"
      }
    },
    {
      "cell_type": "code",
      "source": [
        "solution3Jar=\"\"\"\n",
        "INSERT\n",
        "{\n",
        "  ?obj :knownBy ?subj .\n",
        "}\n",
        "WHERE\n",
        "{\n",
        "  GRAPH :G2 {\n",
        "    ?subj :knows ?obj .\n",
        "  }\n",
        "}\n",
        "\"\"\"\n",
        "\n",
        "ds.update(\"\"\"\n",
        "INSERT\n",
        "{\n",
        "  GRAPH :main {\n",
        "    ?obj :knownBy ?subj .\n",
        "  }\n",
        "}\n",
        "WHERE\n",
        "{\n",
        "  GRAPH :G2 {\n",
        "    ?subj :knows ?obj .\n",
        "  }\n",
        "}\n",
        "\"\"\")\n",
        "\n",
        "print(ds.serialize(format=\"trig\"))"
      ],
      "metadata": {
        "id": "BPIphgZMQJ4B"
      },
      "execution_count": null,
      "outputs": []
    },
    {
      "cell_type": "markdown",
      "source": [
        "###Task 4\n",
        "Löschen Sie mittels DELETE-WHERE alle :knownBy-Beziehungen aus dem Default-Graph. \n",
        "Ihr Update Request darf nicht enthalten: [Mary, Peter, John]"
      ],
      "metadata": {
        "id": "RRZJj2fzQZPP"
      }
    },
    {
      "cell_type": "code",
      "source": [
        "solution4Jar=\"\"\"\n",
        "DELETE{\n",
        "  ?subj :knownBy ?obj\n",
        "}\n",
        "WHERE{\n",
        "  ?subj :knownBy ?obj\n",
        "}\n",
        "\"\"\"\n",
        "\n",
        "ds.update(\"\"\"\n",
        "DELETE{\n",
        "  GRAPH :main{\n",
        "    ?subj :knownBy ?obj\n",
        "  }\n",
        "}\n",
        "WHERE{\n",
        "  GRAPH :main{\n",
        "    ?subj :knownBy ?obj\n",
        "  }\n",
        "}\n",
        "\"\"\")\n",
        "\n",
        "print(ds.serialize(format=\"trig\"))"
      ],
      "metadata": {
        "id": "S2BzzO4NQeTJ"
      },
      "execution_count": null,
      "outputs": []
    },
    {
      "cell_type": "markdown",
      "source": [
        "###Task 5\n",
        "Ermitteln Sie mittels INSERT-WHERE zu jedem Named-Graph dessen Anzahl an Statements mit der Property :knows und schreiben Sie diese in den Default Graph. \n",
        "Ihr Update Request darf nicht enthalten: [G1, G2]"
      ],
      "metadata": {
        "id": "y2rL9GcjQh4p"
      }
    },
    {
      "cell_type": "code",
      "source": [
        "solution5Jar=\"\"\"\n",
        "INSERT{\n",
        "?g :knowsCount ?nr\n",
        "}\n",
        "WHERE{\n",
        "  SELECT ?g (COUNT(?obj) AS ?nr) \n",
        "WHERE\n",
        "{ \n",
        "GRAPH ?g\n",
        "{?subj :knows ?obj.}\n",
        "}\n",
        "GROUP BY ?g\n",
        "}\n",
        "\"\"\"\n",
        "\n",
        "ds.update(\"\"\"\n",
        "INSERT{\n",
        "  GRAPH :main{\n",
        "    ?g :knowsCount ?nr\n",
        "  }\n",
        "}\n",
        "WHERE{\n",
        "  SELECT ?g (COUNT(?obj) AS ?nr) \n",
        "   WHERE { \n",
        "     GRAPH ?g {\n",
        "       ?subj :knows ?obj.\n",
        "     }\n",
        "   }\n",
        "  GROUP BY ?g\n",
        "}\n",
        "\"\"\")\n",
        "\n",
        "print(ds.serialize(format=\"trig\"))"
      ],
      "metadata": {
        "id": "GMF1J_nlQnfP"
      },
      "execution_count": null,
      "outputs": []
    },
    {
      "cell_type": "markdown",
      "source": [
        "###Task 6\n",
        "Ermitteln Sie mittels INSERT-WHERE die Anzahl an Named Graphs und schreiben Sie sie in den Default Graph. \n",
        "Ihr Update Request darf nicht enthalten: [2]"
      ],
      "metadata": {
        "id": "ASKzvHNZQwOR"
      }
    },
    {
      "cell_type": "code",
      "source": [
        "solution6Jar=\"\"\"\n",
        "INSERT{\n",
        ":ds :graphCount ?count\n",
        "}\n",
        "WHERE{\n",
        "SELECT (COUNT(DISTINCT ?graph) AS ?count)\n",
        "WHERE {\n",
        "GRAPH ?graph {\n",
        "  ?subj ?pred ?obj\n",
        "}\n",
        "} \n",
        "}\n",
        "\"\"\"\n",
        "\n",
        "ds.update(\"\"\"\n",
        "INSERT{\n",
        "  GRAPH :main{\n",
        "    :ds :graphCount ?count\n",
        "  }\n",
        "}\n",
        "WHERE{\n",
        "  SELECT (COUNT(DISTINCT ?graph) AS ?count)\n",
        "   WHERE {\n",
        "    GRAPH ?graph {\n",
        "      ?subj ?pred ?obj\n",
        "    }\n",
        "  } \n",
        "}\n",
        "\"\"\")\n",
        "\n",
        "print(ds.serialize(format=\"trig\"))"
      ],
      "metadata": {
        "id": "hvMNYHN5Qyr3"
      },
      "execution_count": null,
      "outputs": []
    },
    {
      "cell_type": "markdown",
      "source": [
        "###Task 7\n",
        "Verschieben Sie mittels DELETE-INSERT-WHERE alle Metadaten zu Named Graphs (also Statements die einen Named Graph als Subjekt haben) in den entsprechenden Named Graph. \n",
        "Ihr Update Request darf nicht enthalten: [G1, G2]"
      ],
      "metadata": {
        "id": "_n5ItrtRQ3JE"
      }
    },
    {
      "cell_type": "code",
      "source": [
        "solution7Jar=\"\"\"\n",
        "DELETE{ ?graph ?pred ?obj . }\n",
        "INSERT {\n",
        "GRAPH ?graph {\n",
        "?graph ?pred ?obj .\n",
        "}\n",
        "}\n",
        "WHERE {\n",
        "SELECT ?graph ?pred ?obj \n",
        "WHERE {\n",
        "?graph ?pred ?obj .\n",
        "GRAPH ?graph {}\n",
        "}\n",
        "}\n",
        "\"\"\"\n",
        "\n",
        "ds.update(\"\"\"\n",
        "DELETE{ \n",
        "  GRAPH :main{\n",
        "    ?graph ?pred ?obj .\n",
        "  } \n",
        "}\n",
        "INSERT {\n",
        "  GRAPH ?graph {\n",
        "    ?graph ?pred ?obj .\n",
        "  }\n",
        "}\n",
        "WHERE {\n",
        "   SELECT ?graph ?pred ?obj \n",
        "    WHERE {\n",
        "     GRAPH ?graph {}\n",
        "     GRAPH :main{\n",
        "      ?graph ?pred ?obj .\n",
        "     } \n",
        "    }\n",
        "}\n",
        "\"\"\")\n",
        "\n",
        "print(ds.serialize(format=\"trig\"))"
      ],
      "metadata": {
        "id": "6kBTQPIdQ7BK"
      },
      "execution_count": null,
      "outputs": []
    },
    {
      "cell_type": "markdown",
      "source": [
        "###Task 8\n",
        "Schreiben Sie in jeden Named Graph ein Statement, dass der Autor des jeweiligen Named Graphs die :Susi kennt und aktualisieren Sie mit dem selben UpdateRequest den knowsCount. \n",
        "Ihr Update Request darf nicht enthalten: [Peter, Mary]"
      ],
      "metadata": {
        "id": "_4oJ8VppQ-ul"
      }
    },
    {
      "cell_type": "code",
      "source": [
        "solution8Jar=\"\"\"\n",
        "DELETE{ \n",
        "GRAPH ?graph{ ?graph :knowsCount ?oldCount . }\n",
        "}\n",
        "INSERT{\n",
        "GRAPH ?graph{\n",
        "?a :knows :Susi .\n",
        "?graph :knowsCount ?newCount .\n",
        "}\n",
        "}\n",
        "WHERE {\n",
        "GRAPH ?graph {\n",
        "?graph :author ?a ;\n",
        ":knowsCount ?oldCount .\n",
        "BIND(?oldCount+1 AS ?newCount)\n",
        "}\n",
        "}\n",
        "\"\"\"\n",
        "\n",
        "ds.update(\"\"\"\n",
        "DELETE{ \n",
        "   GRAPH ?graph{\n",
        "     ?graph :knowsCount ?oldCount . \n",
        "   }\n",
        "}\n",
        "INSERT{\n",
        "   GRAPH ?graph{\n",
        "    ?a :knows :Susi .\n",
        "    ?graph :knowsCount ?newCount .\n",
        "   }\n",
        "}\n",
        "WHERE {\n",
        "   GRAPH ?graph {\n",
        "    ?graph :author ?a ;\n",
        "    :knowsCount ?oldCount .\n",
        "    BIND(?oldCount+1 AS ?newCount)\n",
        "   }\n",
        "}\n",
        "\"\"\")\n",
        "\n",
        "print(ds.serialize(format=\"trig\"))"
      ],
      "metadata": {
        "id": "H5Dgh5ScRFLD"
      },
      "execution_count": null,
      "outputs": []
    }
  ]
}