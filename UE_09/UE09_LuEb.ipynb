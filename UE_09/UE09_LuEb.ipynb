{
  "nbformat": 4,
  "nbformat_minor": 0,
  "metadata": {
    "colab": {
      "provenance": []
    },
    "kernelspec": {
      "name": "python3",
      "display_name": "Python 3"
    },
    "language_info": {
      "name": "python"
    }
  },
  "cells": [
    {
      "cell_type": "markdown",
      "source": [
        "# Bayesian Networks in Python\n",
        "\n",
        "In this tutorial, we will explore how to use Bayesian networks in Python using the `pgmpy` library.\n",
        "\n",
        "See documentation at:\n",
        "- https://pgmpy.org/\n",
        "- https://pgmpy.org/models/bayesiannetwork.html\n",
        "- https://pgmpy.org/factors/discrete.html\n",
        "- https://pgmpy.org/exact_infer/ve.html"
      ],
      "metadata": {
        "id": "2G5_9hI8Oegc"
      }
    },
    {
      "cell_type": "markdown",
      "source": [
        "## Implementation in Python using `pgmpy`.\n",
        "\n",
        "Let's start by installing the `pgmpy` library."
      ],
      "metadata": {
        "id": "1tVLWr-_Tn4I"
      }
    },
    {
      "cell_type": "code",
      "execution_count": 106,
      "metadata": {
        "id": "PJ_P6rynObjV"
      },
      "outputs": [],
      "source": [
        "!pip install -q pgmpy networkx matplotlib plotly daft"
      ]
    },
    {
      "cell_type": "markdown",
      "source": [
        "Import the required libraries."
      ],
      "metadata": {
        "id": "k12GLfW8O1Iz"
      }
    },
    {
      "cell_type": "code",
      "source": [
        "import numpy as np\n",
        "from pgmpy.models import BayesianNetwork\n",
        "from pgmpy.factors.discrete import TabularCPD\n",
        "import networkx as nx\n",
        "import matplotlib.pyplot as plt\n",
        "from pgmpy.inference import VariableElimination"
      ],
      "metadata": {
        "id": "BP8gltvIO7mU"
      },
      "execution_count": 107,
      "outputs": []
    },
    {
      "cell_type": "markdown",
      "source": [
        "### Aufgabe a)"
      ],
      "metadata": {
        "id": "WZ9fWpP8O7OD"
      }
    },
    {
      "cell_type": "code",
      "source": [
        "# Define the network structure\n",
        "model = BayesianNetwork([('TrainStrike', 'JohannaLate'),\n",
        "                         ('TrainStrike', 'PeterLate'),\n",
        "                         ('PetersAlarmFails', 'PeterLate')])\n",
        "\n",
        "statenames = {\n",
        "'TrainStrike': ['True', 'False'],\n",
        "'PeterLate': ['True', 'False'],\n",
        "'JohannaLate': ['True', 'False'],\n",
        "'PetersAlarmFails': ['True', 'False']}\n",
        "\n",
        "# Wahrscheinlichkeiten für PetersAlarmFails\n",
        "cpd_peters_alarm_fails = TabularCPD(variable='PetersAlarmFails', state_names=statenames, variable_card=2, values=[[0.1], [0.9]])\n",
        "model.add_cpds(cpd_peters_alarm_fails)\n",
        "\n",
        "# Wahrscheinlichkeiten für den TrainStrike\n",
        "cpd_train_strike = TabularCPD(variable='TrainStrike', state_names=statenames, variable_card=2, values=[[0.05], [0.95]])\n",
        "model.add_cpds(cpd_train_strike)\n",
        "\n",
        "# Wahrscheinlichkeiten für JohannaLate\n",
        "cpd_johanna_late = TabularCPD(variable='JohannaLate', state_names=statenames, variable_card=2,\n",
        "                              evidence=['TrainStrike'], evidence_card=[2],\n",
        "                              values=[\n",
        "                                  [0.5, 0.02],\n",
        "                                   [0.5, 0.98]])\n",
        "model.add_cpds(cpd_johanna_late)\n",
        "\n",
        "\n",
        "cpd_peter_late = TabularCPD(variable='PeterLate', state_names=statenames, variable_card=2,\n",
        "                            evidence=['TrainStrike', 'PetersAlarmFails'], evidence_card=[2, 2],\n",
        "                            values=\n",
        "                             [[0.7, 0.3, 0.4, 0.01],\n",
        "                              [0.3, 0.7, 0.6, 0.99]])\n",
        "model.add_cpds(cpd_peter_late)\n",
        "model.check_model()\n",
        "\n",
        "for cpd in model.get_cpds():\n",
        "  print(cpd)"
      ],
      "metadata": {
        "id": "JhDmRSpMO_-d",
        "colab": {
          "base_uri": "https://localhost:8080/"
        },
        "outputId": "677b2af4-4bed-4e7c-bc88-7301d70f9762"
      },
      "execution_count": 108,
      "outputs": [
        {
          "output_type": "stream",
          "name": "stdout",
          "text": [
            "+-------------------------+-----+\n",
            "| PetersAlarmFails(True)  | 0.1 |\n",
            "+-------------------------+-----+\n",
            "| PetersAlarmFails(False) | 0.9 |\n",
            "+-------------------------+-----+\n",
            "+--------------------+------+\n",
            "| TrainStrike(True)  | 0.05 |\n",
            "+--------------------+------+\n",
            "| TrainStrike(False) | 0.95 |\n",
            "+--------------------+------+\n",
            "+--------------------+-------------------+--------------------+\n",
            "| TrainStrike        | TrainStrike(True) | TrainStrike(False) |\n",
            "+--------------------+-------------------+--------------------+\n",
            "| JohannaLate(True)  | 0.5               | 0.02               |\n",
            "+--------------------+-------------------+--------------------+\n",
            "| JohannaLate(False) | 0.5               | 0.98               |\n",
            "+--------------------+-------------------+--------------------+\n",
            "+------------------+-----+-------------------------+\n",
            "| TrainStrike      | ... | TrainStrike(False)      |\n",
            "+------------------+-----+-------------------------+\n",
            "| PetersAlarmFails | ... | PetersAlarmFails(False) |\n",
            "+------------------+-----+-------------------------+\n",
            "| PeterLate(True)  | ... | 0.01                    |\n",
            "+------------------+-----+-------------------------+\n",
            "| PeterLate(False) | ... | 0.99                    |\n",
            "+------------------+-----+-------------------------+\n"
          ]
        }
      ]
    },
    {
      "cell_type": "markdown",
      "source": [
        "### Aufgabe b)\n",
        "Wie hoch ist die Wahrscheinlichkeit, dass Johanna bzw Peter zu spät in die Arbeit kommen?"
      ],
      "metadata": {
        "id": "mWMxDT16ZFM4"
      }
    },
    {
      "cell_type": "code",
      "source": [
        "inference = VariableElimination(model)\n",
        "\n",
        "print(inference.query(variables=['JohannaLate']))\n",
        "print(inference.query(variables=['PeterLate']))"
      ],
      "metadata": {
        "colab": {
          "base_uri": "https://localhost:8080/"
        },
        "id": "58JZBC-HZHgf",
        "outputId": "3a3e1e41-61cd-4113-8849-a9ebbfd86b54"
      },
      "execution_count": 109,
      "outputs": [
        {
          "output_type": "stream",
          "name": "stdout",
          "text": [
            "+--------------------+--------------------+\n",
            "| JohannaLate        |   phi(JohannaLate) |\n",
            "+====================+====================+\n",
            "| JohannaLate(True)  |             0.0440 |\n",
            "+--------------------+--------------------+\n",
            "| JohannaLate(False) |             0.9560 |\n",
            "+--------------------+--------------------+\n",
            "+------------------+------------------+\n",
            "| PeterLate        |   phi(PeterLate) |\n",
            "+==================+==================+\n",
            "| PeterLate(True)  |           0.0635 |\n",
            "+------------------+------------------+\n",
            "| PeterLate(False) |           0.9365 |\n",
            "+------------------+------------------+\n"
          ]
        }
      ]
    },
    {
      "cell_type": "markdown",
      "source": [
        "### Aufgabe c)\n",
        "Wie hoch ist die Wahrscheinlichkeit, dass Johanna zu spät in die Arbeit kommt, falls Peters Wecker\n",
        "nicht funktioniert?"
      ],
      "metadata": {
        "id": "QKUw7LphZ5Zr"
      }
    },
    {
      "cell_type": "code",
      "source": [
        "print(inference.query(['JohannaLate'], evidence={'PetersAlarmFails': 'True'}))"
      ],
      "metadata": {
        "colab": {
          "base_uri": "https://localhost:8080/"
        },
        "id": "43TJqtR-Z8T6",
        "outputId": "ab7f83c4-a05e-4f4a-f805-18cbb08ae221"
      },
      "execution_count": 110,
      "outputs": [
        {
          "output_type": "stream",
          "name": "stdout",
          "text": [
            "+--------------------+--------------------+\n",
            "| JohannaLate        |   phi(JohannaLate) |\n",
            "+====================+====================+\n",
            "| JohannaLate(True)  |             0.0440 |\n",
            "+--------------------+--------------------+\n",
            "| JohannaLate(False) |             0.9560 |\n",
            "+--------------------+--------------------+\n"
          ]
        }
      ]
    },
    {
      "cell_type": "markdown",
      "source": [
        "### Aufgabe d)\n",
        "Wie hoch ist die Wahrscheinlichkeit, dass Johanna zu spät in die Arbeit kommt, wenn Peter zu spät\n",
        "in die Arbeit kommt?"
      ],
      "metadata": {
        "id": "b-f_500Da38J"
      }
    },
    {
      "cell_type": "code",
      "source": [
        "print(inference.query(['JohannaLate'], evidence={'PeterLate': 'True'}))"
      ],
      "metadata": {
        "colab": {
          "base_uri": "https://localhost:8080/"
        },
        "id": "14UBpDqpa8g_",
        "outputId": "2ecd0ff1-8110-4ce9-b41f-1a6d71e8268c"
      },
      "execution_count": 111,
      "outputs": [
        {
          "output_type": "stream",
          "name": "stdout",
          "text": [
            "+--------------------+--------------------+\n",
            "| JohannaLate        |   phi(JohannaLate) |\n",
            "+====================+====================+\n",
            "| JohannaLate(True)  |             0.1484 |\n",
            "+--------------------+--------------------+\n",
            "| JohannaLate(False) |             0.8516 |\n",
            "+--------------------+--------------------+\n"
          ]
        }
      ]
    },
    {
      "cell_type": "markdown",
      "source": [
        "### Aufgabe e)\n",
        "Wie hoch ist die Wahrscheinlichkeit, dass Johanna zu spät in die Arbeit kommt, wenn Peter zu\n",
        "spät in die Arbeit kommt obwohl Peters Wecker funktioniert?"
      ],
      "metadata": {
        "id": "W8jTzVg-a9vp"
      }
    },
    {
      "cell_type": "code",
      "source": [
        "print(inference.query(['JohannaLate'], evidence={'PeterLate': 'True', 'PetersAlarmFails':'False'}))"
      ],
      "metadata": {
        "colab": {
          "base_uri": "https://localhost:8080/"
        },
        "id": "7HQBV_fSbA4r",
        "outputId": "7224c4a5-e150-4118-c0af-600439d4e9b4"
      },
      "execution_count": 112,
      "outputs": [
        {
          "output_type": "stream",
          "name": "stdout",
          "text": [
            "+--------------------+--------------------+\n",
            "| JohannaLate        |   phi(JohannaLate) |\n",
            "+====================+====================+\n",
            "| JohannaLate(True)  |             0.3139 |\n",
            "+--------------------+--------------------+\n",
            "| JohannaLate(False) |             0.6861 |\n",
            "+--------------------+--------------------+\n"
          ]
        }
      ]
    }
  ]
}