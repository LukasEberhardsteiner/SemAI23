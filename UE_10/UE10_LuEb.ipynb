{
  "cells": [
    {
      "cell_type": "markdown",
      "metadata": {
        "id": "-gsdFpdPtL66"
      },
      "source": [
        "# Knowledge Graph Embeddings\n",
        "\n",
        "This notebook is about your first steps with knowledge graph embedding models in PyKEEN. This notebook is based on https://github.com/pykeen/pykeen/blob/master/notebooks/hello_world/hello_world.ipynb\n",
        "\n",
        "You'll get to do the following:\n",
        "\n",
        "1. train a model based on a small knowledge graph\n",
        "2. evaluate how good it learned\n",
        "3. turn it around and start making predictions.\n",
        "\n",
        "The knowledge graph is provided inline as string and is originally based on the `Countries` dataset provided with Pykeen.\n"
      ]
    },
    {
      "cell_type": "markdown",
      "source": [
        "## Install Packages"
      ],
      "metadata": {
        "id": "7qArUW4D3R8S"
      }
    },
    {
      "cell_type": "code",
      "execution_count": null,
      "metadata": {
        "id": "bnAgYIEmtL67"
      },
      "outputs": [],
      "source": [
        "# Install packages if they're not already found\n",
        "! pip install --upgrade pip\n",
        "! python -c \"import pykeen\" || pip install git+https://github.com/pykeen/pykeen.git\n",
        "! python -c \"import wordcloud\" || pip install wordcloud"
      ]
    },
    {
      "cell_type": "markdown",
      "source": [
        "## Imports"
      ],
      "metadata": {
        "id": "dgjwvnN53W-4"
      }
    },
    {
      "cell_type": "code",
      "execution_count": null,
      "metadata": {
        "id": "Ce5_ZDL8tL67"
      },
      "outputs": [],
      "source": [
        "import os\n",
        "\n",
        "import matplotlib.pyplot as plt\n",
        "import torch\n",
        "\n",
        "import pykeen\n",
        "from pykeen.datasets import Countries\n",
        "from pykeen.pipeline import pipeline\n",
        "from pykeen import predict\n",
        "from pykeen.triples import TriplesFactory\n",
        "\n",
        "import requests\n",
        "import numpy as np\n",
        "\n",
        "import pandas as pd\n",
        "\n",
        "pd.set_option('display.max_columns', 100)\n",
        "\n",
        "%matplotlib inline\n",
        "%config InlineBackend.figure_format = 'svg'"
      ]
    },
    {
      "cell_type": "markdown",
      "source": [
        "## Environment variables"
      ],
      "metadata": {
        "id": "iX3g8OSr3b9g"
      }
    },
    {
      "cell_type": "code",
      "execution_count": null,
      "metadata": {
        "id": "JnU24aS6tL68"
      },
      "outputs": [],
      "source": [
        "pykeen.env()"
      ]
    },
    {
      "cell_type": "markdown",
      "source": [
        "## The Knowledge Graph\n",
        "\n",
        "The knowledge graph is provided inline as String to facilitate manipulation. You can add and delete triples as you wish. You have to separate subject, predicate and objects by tabs.\n",
        "\n",
        "In the current KG, Switzerland has no information about which part of europe it is located in and its languages."
      ],
      "metadata": {
        "id": "6BYkw6ueQs94"
      }
    },
    {
      "cell_type": "code",
      "source": [
        "data = \"\"\"\n",
        "albania\tlanguage\talbanian\n",
        "albania\tlanguage\tmacedonian\n",
        "albania\tlanguage\tgreek\n",
        "albania\tlocatedin\tsouthern_europe\n",
        "albania\tneighbor\tgreece\n",
        "albania\tneighbor\tkosovo\n",
        "albania\tneighbor\tmacedonia\n",
        "albania\tneighbor\tmontenegro\n",
        "andorra\tlanguage\tcatalan\n",
        "andorra\tlocatedin\tsouthern_europe\n",
        "andorra\tneighbor\tfrance\n",
        "andorra\tneighbor\tspain\n",
        "austria\tlanguage\tcroatian\n",
        "austria\tlanguage\tgerman\n",
        "austria\tlanguage\thungarian\n",
        "austria\tlanguage\tslovene\n",
        "austria\tlocatedin\twestern_europe\n",
        "austria\tneighbor\tczechia\n",
        "austria\tneighbor\tgermany\n",
        "austria\tneighbor\thungary\n",
        "austria\tneighbor\titaly\n",
        "austria\tneighbor\tliechtenstein\n",
        "austria\tneighbor\tslovakia\n",
        "belarus\tlanguage\tbelarussian\n",
        "belarus\tlanguage\trussian\n",
        "belarus\tlocatedin\teastern_europe\n",
        "belarus\tneighbor\tlatvia\n",
        "belarus\tneighbor\tlithuania\n",
        "belarus\tneighbor\tpoland\n",
        "belarus\tneighbor\trussia\n",
        "belarus\tneighbor\tukraine\n",
        "belgium\tlanguage\tdutch\n",
        "belgium\tlanguage\tfrench\n",
        "belgium\tlanguage\tgerman\n",
        "belgium\tlocatedin\twestern_europe\n",
        "belgium\tneighbor\tfrance\n",
        "belgium\tneighbor\tgermany\n",
        "belgium\tneighbor\tluxembourg\n",
        "belgium\tneighbor\tnetherlands\n",
        "bosnia_and_herzegovina\tlanguage\tbosnian\n",
        "bosnia_and_herzegovina\tlanguage\tcroation\n",
        "bosnia_and_herzegovina\tlanguage\tserbian\n",
        "bosnia_and_herzegovina\tlocatedin\tsouthern_europe\n",
        "bosnia_and_herzegovina\tneighbor\tcroatia\n",
        "bosnia_and_herzegovina\tneighbor\tmontenegro\n",
        "bosnia_and_herzegovina\tneighbor\tserbia\n",
        "bulgaria\tlanguage\tbulgarian\n",
        "bulgaria\tlocatedin\teastern_europe\n",
        "bulgaria\tneighbor\tgreece\n",
        "bulgaria\tneighbor\tmacedonia\n",
        "bulgaria\tneighbor\tromania\n",
        "bulgaria\tneighbor\tserbia\n",
        "bulgaria\tneighbor\tturkey\n",
        "croatia\tlanguage\tcroatian\n",
        "croatia\tlocatedin\tsouthern_europe\n",
        "croatia\tneighbor\tbosnia_and_herzegovina\n",
        "croatia\tneighbor\thungary\n",
        "croatia\tneighbor\tmontenegro\n",
        "croatia\tneighbor\tserbia\n",
        "croatia\tneighbor\tslovenia\n",
        "cyprus\tlanguage\tgreek\n",
        "cyprus\tlanguage\tturkish\n",
        "cyprus\tlocatedin\teastern_europe\n",
        "cyprus\tneighbor\tunited_kingdom\n",
        "czechia\tlanguage\tczech\n",
        "czechia\tlocatedin\teastern_europe\n",
        "czechia\tneighbor\taustria\n",
        "czechia\tneighbor\tgermany\n",
        "czechia\tneighbor\tpoland\n",
        "czechia\tneighbor\tslovakia\n",
        "denmark\tlanguage\tdanish\n",
        "denmark\tlanguage\tgerman\n",
        "denmark\tlocatedin\tnorthern_europe\n",
        "denmark\tneighbor\tgermany\n",
        "estonia\tlanguage\testonian\n",
        "estonia\tlocatedin\tnorthern_europe\n",
        "estonia\tneighbor\tlatvia\n",
        "estonia\tneighbor\trussia\n",
        "finland\tlanguage\tfinnish\n",
        "finland\tlanguage\tswedish\n",
        "finland\tlocatedin\tnorthern_europe\n",
        "finland\tneighbor\tnorway\n",
        "finland\tneighbor\trussia\n",
        "finland\tneighbor\tsweden\n",
        "france\tlanguage\tfrench\n",
        "france\tlocatedin\twestern_europe\n",
        "france\tneighbor\tandorra\n",
        "france\tneighbor\tbelgium\n",
        "france\tneighbor\tgermany\n",
        "france\tneighbor\titaly\n",
        "france\tneighbor\tluxembourg\n",
        "france\tneighbor\tmonaco\n",
        "france\tneighbor\tspain\n",
        "france\tneighbor\tswitzerland\n",
        "germany\tlanguage\tgerman\n",
        "germany\tlocatedin\twestern_europe\n",
        "germany\tneighbor\taustria\n",
        "germany\tneighbor\tbelgium\n",
        "germany\tneighbor\tczechia\n",
        "germany\tneighbor\tdenmark\n",
        "germany\tneighbor\tfrance\n",
        "germany\tneighbor\tluxembourg\n",
        "germany\tneighbor\tnetherlands\n",
        "germany\tneighbor\tpoland\n",
        "germany\tneighbor\tswitzerland\n",
        "gibraltar\tlanguage\tenglish\n",
        "gibraltar\tlanguage\tspanish\n",
        "gibraltar\tlocatedin\tsouthern_europe\n",
        "gibraltar\tneighbor\tspain\n",
        "greece\tlanguage\tgreek\n",
        "greece\tlocatedin\tsouthern_europe\n",
        "greece\tneighbor\talbania\n",
        "greece\tneighbor\tbulgaria\n",
        "greece\tneighbor\tmacedonia\n",
        "greece\tneighbor\tturkey\n",
        "hungary\tlanguage\thungarian\n",
        "hungary\tlocatedin\teastern_europe\n",
        "hungary\tneighbor\taustria\n",
        "hungary\tneighbor\tcroatia\n",
        "hungary\tneighbor\tromania\n",
        "hungary\tneighbor\tserbia\n",
        "hungary\tneighbor\tslovakia\n",
        "hungary\tneighbor\tslovenia\n",
        "hungary\tneighbor\tukraine\n",
        "iceland\tlanguage\ticelandic\n",
        "iceland\tlocatedin\tnorthern_europe\n",
        "ireland\tlocatedin\tnorthern_europe\n",
        "ireland\tneighbor\tunited_kingdom\n",
        "italy\tlanguage\titalian\n",
        "italy\tlocatedin\tsouthern_europe\n",
        "italy\tneighbor\taustria\n",
        "italy\tneighbor\tfrance\n",
        "italy\tneighbor\tsan_marino\n",
        "italy\tneighbor\tslovenia\n",
        "italy\tneighbor\tswitzerland\n",
        "italy\tneighbor\tvatican_city\n",
        "kosovo\tlanguage\talbanian\n",
        "kosovo\tlanguage\tserbian\n",
        "kosovo\tlocatedin\teastern_europe\n",
        "kosovo\tneighbor\talbania\n",
        "kosovo\tneighbor\tmacedonia\n",
        "kosovo\tneighbor\tmontenegro\n",
        "kosovo\tneighbor\tserbia\n",
        "latvia\tlanguage\tlatvian\n",
        "latvia\tlocatedin\tnorthern_europe\n",
        "latvia\tneighbor\tbelarus\n",
        "latvia\tneighbor\testonia\n",
        "latvia\tneighbor\tlithuania\n",
        "latvia\tneighbor\trussia\n",
        "liechtenstein\tlanguage\tgerman\n",
        "liechtenstein\tlocatedin\twestern_europe\n",
        "liechtenstein\tneighbor\taustria\n",
        "liechtenstein\tneighbor\tswitzerland\n",
        "lithuania\tlanguage\tlithuanian\n",
        "lithuania\tlocatedin\tnorthern_europe\n",
        "lithuania\tneighbor\tbelarus\n",
        "lithuania\tneighbor\tlatvia\n",
        "lithuania\tneighbor\tpoland\n",
        "lithuania\tneighbor\trussia\n",
        "luxembourg\tlanguage\tfrench\n",
        "luxembourg\tlanguage\tgerman\n",
        "luxembourg\tlanguage\tluxembourgish\n",
        "luxembourg\tlocatedin\twestern_europe\n",
        "luxembourg\tneighbor\tbelgium\n",
        "luxembourg\tneighbor\tfrance\n",
        "luxembourg\tneighbor\tgermany\n",
        "macedonia\tlanguage\talbanian\n",
        "macedonia\tlanguage\tmacedonian\n",
        "macedonia\tlocatedin\tsouthern_europe\n",
        "macedonia\tneighbor\talbania\n",
        "macedonia\tneighbor\tbulgaria\n",
        "macedonia\tneighbor\tgreece\n",
        "macedonia\tneighbor\tkosovo\n",
        "macedonia\tneighbor\tserbia\n",
        "malta\tlanguage\tenglish\n",
        "malta\tlanguage\tmaltese\n",
        "malta\tlocatedin\tsouthern_europe\n",
        "moldova\tlanguage\tromanian\n",
        "moldova\tlocatedin\teastern_europe\n",
        "moldova\tneighbor\tromania\n",
        "moldova\tneighbor\tukraine\n",
        "monaco\tlanguage\tfrench\n",
        "monaco\tlanguage\titalian\n",
        "monaco\tlocatedin\twestern_europe\n",
        "monaco\tneighbor\tfrance\n",
        "montenegro\tlanguage\tmontenegrin\n",
        "montenegro\tlanguage\talbanian\n",
        "montenegro\tlanguage\tbosnian\n",
        "montenegro\tlanguage\tcroatian\n",
        "montenegro\tlanguage\tserbian\n",
        "montenegro\tlocatedin\tsouthern_europe\n",
        "montenegro\tneighbor\talbania\n",
        "montenegro\tneighbor\tbosnia_and_herzegovina\n",
        "montenegro\tneighbor\tcroatia\n",
        "montenegro\tneighbor\tkosovo\n",
        "montenegro\tneighbor\tserbia\n",
        "netherlands\tlanguage\tdutch\n",
        "netherlands\tlocatedin\twestern_europe\n",
        "netherlands\tneighbor\tbelgium\n",
        "netherlands\tneighbor\tgermany\n",
        "norway\tlanguage\tnorwegian\n",
        "norway\tlocatedin\tnorthern_europe\n",
        "norway\tneighbor\tfinland\n",
        "norway\tneighbor\trussia\n",
        "norway\tneighbor\tsweden\n",
        "poland\tlanguage\tpolish\n",
        "poland\tlocatedin\teastern_europe\n",
        "poland\tneighbor\tbelarus\n",
        "poland\tneighbor\tczechia\n",
        "poland\tneighbor\tgermany\n",
        "poland\tneighbor\tlithuania\n",
        "poland\tneighbor\trussia\n",
        "poland\tneighbor\tslovakia\n",
        "poland\tneighbor\tukraine\n",
        "portugal\tlanguage\tportuguese\n",
        "portugal\tlocatedin\tsouthern_europe\n",
        "portugal\tneighbor\tspain\n",
        "romania\tlanguage\tromanian\n",
        "romania\tlocatedin\teastern_europe\n",
        "romania\tneighbor\tbulgaria\n",
        "romania\tneighbor\thungary\n",
        "romania\tneighbor\tmoldova\n",
        "romania\tneighbor\tserbia\n",
        "romania\tneighbor\tukraine\n",
        "russia\tlanguage\trussian\n",
        "russia\tlocatedin\teastern_europe\n",
        "russia\tneighbor\tbelarus\n",
        "russia\tneighbor\testonia\n",
        "russia\tneighbor\tfinland\n",
        "russia\tneighbor\tlatvia\n",
        "russia\tneighbor\tlithuania\n",
        "russia\tneighbor\tnorway\n",
        "russia\tneighbor\tpoland\n",
        "russia\tneighbor\tukraine\n",
        "san_marino\tlanguage\titalian\n",
        "san_marino\tlocatedin\tsouthern_europe\n",
        "san_marino\tneighbor\titaly\n",
        "serbia\tlanguage\tserbian\n",
        "serbia\tlocatedin\tsouthern_europe\n",
        "serbia\tneighbor\tbosnia_and_herzegovina\n",
        "serbia\tneighbor\tbulgaria\n",
        "serbia\tneighbor\tcroatia\n",
        "serbia\tneighbor\thungary\n",
        "serbia\tneighbor\tkosovo\n",
        "serbia\tneighbor\tmacedonia\n",
        "serbia\tneighbor\tmontenegro\n",
        "serbia\tneighbor\tromania\n",
        "slovakia\tlanguage\tslovak\n",
        "slovakia\tlocatedin\tcentral_europe\n",
        "slovakia\tneighbor\taustria\n",
        "slovakia\tneighbor\tczechia\n",
        "slovakia\tneighbor\thungary\n",
        "slovakia\tneighbor\tpoland\n",
        "slovakia\tneighbor\tukraine\n",
        "slovenia\tlanguage\thungarian\n",
        "slovenia\tlanguage\titalian\n",
        "slovenia\tlanguage\tslovene\n",
        "slovenia\tlocatedin\tsouthern_europe\n",
        "slovenia\tneighbor\taustria\n",
        "slovenia\tneighbor\tcroatia\n",
        "slovenia\tneighbor\thungary\n",
        "slovenia\tneighbor\titaly\n",
        "spain\tlanguage\tspanish\n",
        "spain\tlanguage\tcatalan\n",
        "spain\tlocatedin\tsouthern_europe\n",
        "spain\tneighbor\tandorra\n",
        "spain\tneighbor\tfrance\n",
        "spain\tneighbor\tgibraltar\n",
        "spain\tneighbor\tmorocco\n",
        "spain\tneighbor\tportugal\n",
        "sweden\tlanguage\tswedish\n",
        "sweden\tlanguage\tfinnish\n",
        "sweden\tlocatedin\tnorthern_europe\n",
        "sweden\tneighbor\tfinland\n",
        "sweden\tneighbor\tnorway\n",
        "switzerland\tneighbor\tfrance\n",
        "switzerland\tneighbor\tgermany\n",
        "switzerland\tneighbor\titaly\n",
        "switzerland\tneighbor\tliechtenstein\n",
        "turkey\tlanguage\tturkish\n",
        "turkey\tneighbor\tbulgaria\n",
        "turkey\tneighbor\tgreece\n",
        "ukraine\tlanguage\tukrainian\n",
        "ukraine\tlanguage\trussian\n",
        "ukraine\tlocatedin\teastern_europe\n",
        "ukraine\tlocatedin\teastern_europe\n",
        "ukraine\tneighbor\tbelarus\n",
        "ukraine\tneighbor\thungary\n",
        "ukraine\tneighbor\tmoldova\n",
        "ukraine\tneighbor\tpoland\n",
        "ukraine\tneighbor\tromania\n",
        "ukraine\tneighbor\trussia\n",
        "ukraine\tneighbor\tslovakia\n",
        "united_kingdom\tlanguage\tenglish\n",
        "united_kingdom\tlocatedin\tnorthern_europe\n",
        "united_kingdom\tneighbor\tireland\n",
        "vatican_city\tlanguage\tlatin\n",
        "vatican_city\tlanguage\titalian\n",
        "vatican_city\tlocatedin\tsouthern_europe\n",
        "vatican_city\tneighbor\titaly\n",
        "france\tpoliticalalliancewith\tgermany\n",
        "germany\tpoliticalalliancewith\tfrance\n",
        "germany\tpoliticalalliancewith\tnetherlands\n",
        "malta\tpoliticalalliancewith\testonia\n",
        "ireland\tpoliticalalliancewith\tbulgaria\n",
        "czechia\tpoliticalalliancewith\tromania\n",
        "cyprus\tpoliticalalliancewith\tluxembourg\n",
        "croatia\tpoliticalalliancewith\tslovenia\n",
        "lithuania\tpoliticalalliancewith\tslovakia\n",
        "portugal\tpoliticalalliancewith\tsweden\n",
        "latvia\tpoliticalalliancewith\titaly\n",
        "belgium\tpoliticalalliancewith\thungary\n",
        "romania\ttradepartner\tsweden\n",
        "malta\ttradepartner\tnetherlands\n",
        "estonia\ttradepartner\tbulgaria\n",
        "croatia\ttradepartner\tslovenia\n",
        "cyprus\ttradepartner\tslovakia\n",
        "lithuania\ttradepartner\tireland\n",
        "germany\ttradepartner\tdenmark\n",
        "finland\ttradepartner\tportugal\n",
        "latvia\ttradepartner\thungary\n",
        "greece\ttradepartner\titaly\n",
        "slovakia\ttradepartner\tluxembourg\n",
        "belgium\ttradepartner\tczechia\n",
        "bulgaria\ttradepartner\tcroatia\n",
        "\"\"\".strip()"
      ],
      "metadata": {
        "id": "jeABc-gdQsWI"
      },
      "execution_count": null,
      "outputs": []
    },
    {
      "cell_type": "markdown",
      "source": [
        "### Triple Factories\n",
        "\n",
        "The data is to be split up in a training set and a testing set and provided as triple factories."
      ],
      "metadata": {
        "id": "K0vw9mCQSfqo"
      }
    },
    {
      "cell_type": "code",
      "source": [
        "def get_tf(triples):\n",
        "  triples = np.array([triple.split(\"\\t\") for triple in triples.split(\"\\n\")])\n",
        "  tf = TriplesFactory.from_labeled_triples(triples=triples)\n",
        "  return tf\n",
        "\n",
        "data_tf = get_tf(data)\n",
        "train_tf, test_tf = data_tf.split()"
      ],
      "metadata": {
        "id": "sj2Q4ue-SjGI"
      },
      "execution_count": null,
      "outputs": []
    },
    {
      "cell_type": "markdown",
      "metadata": {
        "id": "cy8-djVhtL68"
      },
      "source": [
        "## Train a Model\n",
        "\n",
        "We use PyKeen's `pipeline` to learn a knowledge graph embedding from the dataset.\n",
        "\n",
        "More tutorials on training your first model can be found [here](https://pykeen.readthedocs.io/en/latest/tutorial/first_steps.html)."
      ]
    },
    {
      "cell_type": "code",
      "execution_count": null,
      "metadata": {
        "id": "2tVVLl86tL6-"
      },
      "outputs": [],
      "source": [
        "result = pipeline(\n",
        "    training=train_tf,\n",
        "    testing=test_tf,\n",
        "    model=\"PairRE\",\n",
        "\n",
        "    # Training configuration\n",
        "    training_kwargs=dict(\n",
        "        num_epochs=200,\n",
        "        use_tqdm_batch=False,\n",
        "    ),\n",
        "    # Runtime configuration\n",
        "    random_seed=1235,\n",
        ")"
      ]
    },
    {
      "cell_type": "markdown",
      "source": [
        "## Internals"
      ],
      "metadata": {
        "id": "HJubzllZbYfI"
      }
    },
    {
      "cell_type": "markdown",
      "metadata": {
        "id": "pe6ivsPftL6-"
      },
      "source": [
        "Save the trained model (which contains the triples and all of the learned parameters), the results from training, and all of the experimental metadata."
      ]
    },
    {
      "cell_type": "code",
      "execution_count": null,
      "metadata": {
        "id": "ip2HxGlftL6_"
      },
      "outputs": [],
      "source": [
        "save_location = \"results\"  # this directory\n",
        "result.save_to_directory(save_location)\n",
        "os.listdir(save_location)"
      ]
    },
    {
      "cell_type": "code",
      "execution_count": null,
      "metadata": {
        "id": "UL5rqckftL7A"
      },
      "outputs": [],
      "source": [
        "# How to look at the model\n",
        "model = result.model\n",
        "model"
      ]
    },
    {
      "cell_type": "code",
      "execution_count": null,
      "metadata": {
        "id": "Rhh6IXhitL7A"
      },
      "outputs": [],
      "source": [
        "# How to look at the triples\n",
        "tf = result.training\n",
        "tf"
      ]
    },
    {
      "cell_type": "code",
      "execution_count": null,
      "metadata": {
        "id": "S7VeJu58tL7B"
      },
      "outputs": [],
      "source": [
        "tf.num_entities, tf.num_relations, tf.num_triples"
      ]
    },
    {
      "cell_type": "markdown",
      "metadata": {
        "id": "kmt-1eHQtL7B"
      },
      "source": [
        "## Evaluating the Results\n",
        "\n",
        "Check that the loss is going down (and not oscillating) by plotting in the notebook."
      ]
    },
    {
      "cell_type": "code",
      "execution_count": null,
      "metadata": {
        "id": "ol8nDwCgtL7B"
      },
      "outputs": [],
      "source": [
        "result.plot_losses()\n",
        "plt.show()"
      ]
    },
    {
      "cell_type": "markdown",
      "metadata": {
        "id": "0U_Qa5tKtL7C"
      },
      "source": [
        "Look at the result. These are pretty tricky to interpret, so remember:\n",
        "\n",
        "- adjusted mean rank is between [0, 2]. Closer to 0 is better!\n",
        "- mean rank is a positive integer, with a bound based on the number of entities. Closer to 0 is better!\n",
        "- hits@k is reported between [0, 1] and interpreted as a percentage. Closer to 1 is better!"
      ]
    },
    {
      "cell_type": "code",
      "execution_count": null,
      "metadata": {
        "id": "iYcArSb1tL7C"
      },
      "outputs": [],
      "source": [
        "result.metric_results.to_df()"
      ]
    },
    {
      "cell_type": "markdown",
      "metadata": {
        "id": "5YTE_SbctL7C"
      },
      "source": [
        "## Turn it around: make predictions\n",
        "\n",
        "It's very difficult to interpret KGEMs statistically, so it's best to sort order the predictions by their scores. All interaction functions in PyKEEN have been implemented such that the higher the score (or less negative the score), the more likely a triple is to be true.\n",
        "\n",
        "Before making any predictions, we're goign to show some word clouds of the entities and relations in the Nations dataset, with size corresponding to frequency of appearance in triples."
      ]
    },
    {
      "cell_type": "code",
      "execution_count": null,
      "metadata": {
        "id": "sjciW_5htL7D"
      },
      "outputs": [],
      "source": [
        "tf.entity_word_cloud()"
      ]
    },
    {
      "cell_type": "code",
      "execution_count": null,
      "metadata": {
        "id": "jo7nAqvatL7D"
      },
      "outputs": [],
      "source": [
        "tf.relation_word_cloud()"
      ]
    },
    {
      "cell_type": "markdown",
      "source": [
        "## Predictions"
      ],
      "metadata": {
        "id": "gpbLNOLbbUYh"
      }
    },
    {
      "cell_type": "markdown",
      "source": [
        "### Where is Switzerland located?"
      ],
      "metadata": {
        "id": "iSnYDAc9A_Fj"
      }
    },
    {
      "cell_type": "code",
      "execution_count": null,
      "metadata": {
        "id": "KvYRUMJ_tL7E"
      },
      "outputs": [],
      "source": [
        "predict.predict_target(model=model, head=\"switzerland\", relation=\"locatedin\", triples_factory=tf).add_membership_columns(testing=test_tf,training=train_tf).df.head(20)"
      ]
    },
    {
      "cell_type": "markdown",
      "source": [
        "###Nachvollziehen warum predictions gemacht werden\n",
        "\n",
        "germany, france, italy, liechtenstein haben das Land switzerand als neighbour in einem triple.\n",
        "France, germany und liechtenstein sind located_in western_europe.\n",
        "\n",
        "Daher wird das Model predicten, dass switzerland auch in central_europe liegt.\n"
      ],
      "metadata": {
        "id": "4DewuFK_WKCT"
      }
    },
    {
      "cell_type": "markdown",
      "source": [
        "### What languages are spoken in Switzerland? (in addition to what is asserted in the KG)?"
      ],
      "metadata": {
        "id": "euuh1yLuBW6Y"
      }
    },
    {
      "cell_type": "code",
      "execution_count": null,
      "metadata": {
        "id": "UhMKJSN2tL7E"
      },
      "outputs": [],
      "source": [
        "# Automatically filter out non-novel predictions (e.g. in training or in testing is True)\n",
        "predict.predict_target(model=model, head=\"switzerland\", relation=\"language\", triples_factory=tf).filter_triples(test_tf,train_tf).df.head(20)"
      ]
    },
    {
      "cell_type": "markdown",
      "source": [
        "###Nachvollziehen warum predictions gemacht werden\n",
        "\n",
        "germany, france, italy haben das Land switzerand als neighbour in einem triple.\n",
        "\n",
        "Weil diese Länder in relativ vielen Triples vorkommen, wird das Modell annehmen, dass in der Schweiz german/french/italian gesprochen wird.\n",
        "\n",
        "Luxembourg hat wiederum germany und france als neighbour in einem Triple.\n",
        "Daher wird das Modell annehmen, dass in switzerland auch luxembourgish gesprochen wird."
      ],
      "metadata": {
        "id": "HLmEz6TxX6Cp"
      }
    },
    {
      "cell_type": "markdown",
      "source": [
        "### Which countries are located in Western Europe? (in addition to those asserted in the KG)\n",
        "\n"
      ],
      "metadata": {
        "id": "vFCCwrruBzc7"
      }
    },
    {
      "cell_type": "code",
      "source": [
        "predict.predict_target(model=model, tail=\"western_europe\", relation=\"locatedin\", triples_factory=tf).filter_triples(test_tf,train_tf).df.head(20)"
      ],
      "metadata": {
        "id": "9tW96wkWAhSy"
      },
      "execution_count": null,
      "outputs": []
    },
    {
      "cell_type": "markdown",
      "source": [
        "###Nachvollziehen warum predictions gemacht werden\n",
        "\n",
        "Switzerland wird in western_europe predicted, weil Länder (france, germany, liechtenstein) die switzerland als neighbour haben und in western_europe locoated sind viele triples haben. Italy (switzerland als neighbor) liegt allerdings in southern europe."
      ],
      "metadata": {
        "id": "2xsMWaHdZIGf"
      }
    },
    {
      "cell_type": "markdown",
      "source": [
        "### Erste Erweiterung des KG um folgende relation:\n",
        "x tradepartner y"
      ],
      "metadata": {
        "id": "BqNUtcq6bGiX"
      }
    },
    {
      "cell_type": "code",
      "source": [
        "predict.predict_target(model=model, head=\"austria\", relation=\"tradepartner\", triples_factory=tf).filter_triples(test_tf,train_tf).df.head(20)"
      ],
      "metadata": {
        "id": "qIgzjbtPcExg"
      },
      "execution_count": null,
      "outputs": []
    },
    {
      "cell_type": "markdown",
      "source": [
        "### Zweite Erweiterung des KG um folgende relation:\n",
        "x politicalalliancewith y\n"
      ],
      "metadata": {
        "id": "lEckMme4cFaH"
      }
    },
    {
      "cell_type": "code",
      "source": [
        "predict.predict_target(model=model, head=\"austria\", relation=\"politicalalliancewith\", triples_factory=tf).filter_triples(test_tf,train_tf).df.head(20)"
      ],
      "metadata": {
        "id": "fkporUsacE4A"
      },
      "execution_count": null,
      "outputs": []
    }
  ],
  "metadata": {
    "kernelspec": {
      "display_name": "Python 3 (ipykernel)",
      "language": "python",
      "name": "python3"
    },
    "language_info": {
      "codemirror_mode": {
        "name": "ipython",
        "version": 3
      },
      "file_extension": ".py",
      "mimetype": "text/x-python",
      "name": "python",
      "nbconvert_exporter": "python",
      "pygments_lexer": "ipython3",
      "version": "3.10.4"
    },
    "colab": {
      "provenance": [],
      "collapsed_sections": [
        "HJubzllZbYfI"
      ]
    }
  },
  "nbformat": 4,
  "nbformat_minor": 0
}